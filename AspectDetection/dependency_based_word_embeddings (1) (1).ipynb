{
  "nbformat": 4,
  "nbformat_minor": 0,
  "metadata": {
    "colab": {
      "name": "dependency_based_word_embeddings.ipynb",
      "version": "0.3.2",
      "provenance": [],
      "collapsed_sections": []
    },
    "kernelspec": {
      "display_name": "Python 3",
      "language": "python",
      "name": "python3"
    },
    "accelerator": "GPU"
  },
  "cells": [
    {
      "metadata": {
        "colab_type": "code",
        "id": "rBPSB5Albziz",
        "colab": {}
      },
      "cell_type": "code",
      "source": [
        "import numpy as np\n",
        "import seaborn as sns\n",
        "import matplotlib.pyplot as plt\n",
        "from sklearn.metrics import mutual_info_score\n",
        "\n",
        "import nltk\n",
        "import random\n",
        "from nltk.classify.scikitlearn import SklearnClassifier\n",
        "import pickle\n",
        "from sklearn.naive_bayes import MultinomialNB, BernoulliNB\n",
        "from sklearn.linear_model import LogisticRegression, SGDClassifier\n",
        "from sklearn.svm import SVC, LinearSVC, NuSVC\n",
        "from nltk.classify import ClassifierI\n",
        "from nltk.tokenize import word_tokenize\n",
        "from nltk.corpus import stopwords \n",
        "import re"
      ],
      "execution_count": 0,
      "outputs": []
    },
    {
      "metadata": {
        "colab_type": "code",
        "id": "_dM0jHg4b5aK",
        "colab": {}
      },
      "cell_type": "code",
      "source": [
        "# Install the PyDrive wrapper & import libraries.\n",
        "# This only needs to be done once per notebook.\n",
        "!pip install -U -q PyDrive\n",
        "from pydrive.auth import GoogleAuth\n",
        "from pydrive.drive import GoogleDrive\n",
        "from google.colab import auth\n",
        "from oauth2client.client import GoogleCredentials\n",
        "\n",
        "# Authenticate and create the PyDrive client.\n",
        "# This only needs to be done once per notebook.\n",
        "auth.authenticate_user()\n",
        "gauth = GoogleAuth()\n",
        "gauth.credentials = GoogleCredentials.get_application_default()\n",
        "drive = GoogleDrive(gauth)\n",
        "\n",
        "# Download a file based on its file ID.\n",
        "#\n",
        "# A file ID looks like: laggVyWshwcyP6kEI-y_W3P8D26sz\n",
        "file_id = '1i2X52erl1S4WBwy-ccVivbxk-SnxABfP'\n",
        "downloaded = drive.CreateFile({'id': file_id})\n",
        "#print('Downloaded content \"{}\"'.format(downloaded.GetContentString()))\n",
        "downloaded.GetContentFile('sample.csv')"
      ],
      "execution_count": 0,
      "outputs": []
    },
    {
      "metadata": {
        "colab_type": "code",
        "id": "QFuOLs0-b0Ju",
        "colab": {}
      },
      "cell_type": "code",
      "source": [
        "import pandas as pd\n",
        "data = pd.read_csv('sample.csv')"
      ],
      "execution_count": 0,
      "outputs": []
    },
    {
      "metadata": {
        "id": "JrWWkkcgFiBt",
        "colab_type": "text"
      },
      "cell_type": "markdown",
      "source": [
        "### remove the duplicate reviews\n",
        "- for aspect detection, duplicate review is useless"
      ]
    },
    {
      "metadata": {
        "colab_type": "code",
        "id": "qlnBbOjfb4DT",
        "colab": {}
      },
      "cell_type": "code",
      "source": [
        "data = data.drop_duplicates(['sentence'], keep = 'first')"
      ],
      "execution_count": 0,
      "outputs": []
    },
    {
      "metadata": {
        "id": "AjXU8v2FFiBx",
        "colab_type": "text"
      },
      "cell_type": "markdown",
      "source": [
        "### preprocess the review data\n",
        "- remove the special characteristics\n",
        "- change all sentences to lowercase\n",
        "- lemmatize the sentence"
      ]
    },
    {
      "metadata": {
        "colab_type": "code",
        "id": "JMedifBmcPIJ",
        "colab": {}
      },
      "cell_type": "code",
      "source": [
        "from nltk.stem import WordNetLemmatizer\n",
        "wordnet_lemmatizer = WordNetLemmatizer()"
      ],
      "execution_count": 0,
      "outputs": []
    },
    {
      "metadata": {
        "colab_type": "code",
        "id": "XneGwgD4cYF1",
        "colab": {}
      },
      "cell_type": "code",
      "source": [
        "lemma = WordNetLemmatizer()"
      ],
      "execution_count": 0,
      "outputs": []
    },
    {
      "metadata": {
        "colab_type": "code",
        "id": "NiZCi3gVcZ1s",
        "colab": {}
      },
      "cell_type": "code",
      "source": [
        "data['sentence'] = data['sentence'].apply(lambda x : re.sub(r'[^\\w\\s]','',x))"
      ],
      "execution_count": 0,
      "outputs": []
    },
    {
      "metadata": {
        "colab_type": "code",
        "id": "fkAR4YB9ccvw",
        "outputId": "00386e6e-7f25-4c9e-f9e9-a55f45328016",
        "colab": {
          "base_uri": "https://localhost:8080/",
          "height": 110
        }
      },
      "cell_type": "code",
      "source": [
        "data.head(2)"
      ],
      "execution_count": 0,
      "outputs": [
        {
          "output_type": "execute_result",
          "data": {
            "text/html": [
              "<div>\n",
              "<style scoped>\n",
              "    .dataframe tbody tr th:only-of-type {\n",
              "        vertical-align: middle;\n",
              "    }\n",
              "\n",
              "    .dataframe tbody tr th {\n",
              "        vertical-align: top;\n",
              "    }\n",
              "\n",
              "    .dataframe thead th {\n",
              "        text-align: right;\n",
              "    }\n",
              "</style>\n",
              "<table border=\"1\" class=\"dataframe\">\n",
              "  <thead>\n",
              "    <tr style=\"text-align: right;\">\n",
              "      <th></th>\n",
              "      <th>category</th>\n",
              "      <th>from</th>\n",
              "      <th>polarity</th>\n",
              "      <th>sentence</th>\n",
              "      <th>target</th>\n",
              "      <th>to</th>\n",
              "    </tr>\n",
              "  </thead>\n",
              "  <tbody>\n",
              "    <tr>\n",
              "      <th>0</th>\n",
              "      <td>RESTAURANT#GENERAL</td>\n",
              "      <td>51.0</td>\n",
              "      <td>negative</td>\n",
              "      <td>Judging from previous posts this used to be a ...</td>\n",
              "      <td>place</td>\n",
              "      <td>56.0</td>\n",
              "    </tr>\n",
              "    <tr>\n",
              "      <th>1</th>\n",
              "      <td>SERVICE#GENERAL</td>\n",
              "      <td>75.0</td>\n",
              "      <td>negative</td>\n",
              "      <td>We there were four of us arrived at noon  the ...</td>\n",
              "      <td>staff</td>\n",
              "      <td>80.0</td>\n",
              "    </tr>\n",
              "  </tbody>\n",
              "</table>\n",
              "</div>"
            ],
            "text/plain": [
              "             category  from  polarity  \\\n",
              "0  RESTAURANT#GENERAL  51.0  negative   \n",
              "1     SERVICE#GENERAL  75.0  negative   \n",
              "\n",
              "                                            sentence target    to  \n",
              "0  Judging from previous posts this used to be a ...  place  56.0  \n",
              "1  We there were four of us arrived at noon  the ...  staff  80.0  "
            ]
          },
          "metadata": {
            "tags": []
          },
          "execution_count": 9
        }
      ]
    },
    {
      "metadata": {
        "colab_type": "code",
        "id": "UiMGzDvccd7o",
        "colab": {}
      },
      "cell_type": "code",
      "source": [
        "data['sentence'] = data['sentence'].str.lower()"
      ],
      "execution_count": 0,
      "outputs": []
    },
    {
      "metadata": {
        "colab_type": "code",
        "id": "0mmH-w6icjIs",
        "outputId": "95909089-bfa8-4e27-ed7f-d04d3246769b",
        "colab": {
          "base_uri": "https://localhost:8080/",
          "height": 111
        }
      },
      "cell_type": "code",
      "source": [
        "data.head(2)"
      ],
      "execution_count": 9,
      "outputs": [
        {
          "output_type": "execute_result",
          "data": {
            "text/html": [
              "<div>\n",
              "<style scoped>\n",
              "    .dataframe tbody tr th:only-of-type {\n",
              "        vertical-align: middle;\n",
              "    }\n",
              "\n",
              "    .dataframe tbody tr th {\n",
              "        vertical-align: top;\n",
              "    }\n",
              "\n",
              "    .dataframe thead th {\n",
              "        text-align: right;\n",
              "    }\n",
              "</style>\n",
              "<table border=\"1\" class=\"dataframe\">\n",
              "  <thead>\n",
              "    <tr style=\"text-align: right;\">\n",
              "      <th></th>\n",
              "      <th>category</th>\n",
              "      <th>from</th>\n",
              "      <th>polarity</th>\n",
              "      <th>sentence</th>\n",
              "      <th>target</th>\n",
              "      <th>to</th>\n",
              "    </tr>\n",
              "  </thead>\n",
              "  <tbody>\n",
              "    <tr>\n",
              "      <th>0</th>\n",
              "      <td>RESTAURANT#GENERAL</td>\n",
              "      <td>51.0</td>\n",
              "      <td>negative</td>\n",
              "      <td>judging from previous posts this used to be a ...</td>\n",
              "      <td>place</td>\n",
              "      <td>56.0</td>\n",
              "    </tr>\n",
              "    <tr>\n",
              "      <th>1</th>\n",
              "      <td>SERVICE#GENERAL</td>\n",
              "      <td>75.0</td>\n",
              "      <td>negative</td>\n",
              "      <td>we there were four of us arrived at noon  the ...</td>\n",
              "      <td>staff</td>\n",
              "      <td>80.0</td>\n",
              "    </tr>\n",
              "  </tbody>\n",
              "</table>\n",
              "</div>"
            ],
            "text/plain": [
              "             category  from  polarity  \\\n",
              "0  RESTAURANT#GENERAL  51.0  negative   \n",
              "1     SERVICE#GENERAL  75.0  negative   \n",
              "\n",
              "                                            sentence target    to  \n",
              "0  judging from previous posts this used to be a ...  place  56.0  \n",
              "1  we there were four of us arrived at noon  the ...  staff  80.0  "
            ]
          },
          "metadata": {
            "tags": []
          },
          "execution_count": 9
        }
      ]
    },
    {
      "metadata": {
        "colab_type": "code",
        "id": "0N67Wdxxckmg",
        "outputId": "6b323312-907d-4648-9b85-2e3a8b10c9e3",
        "colab": {
          "base_uri": "https://localhost:8080/",
          "height": 292
        }
      },
      "cell_type": "code",
      "source": [
        "!pip install -U pywsd"
      ],
      "execution_count": 10,
      "outputs": [
        {
          "output_type": "stream",
          "text": [
            "Collecting pywsd\n",
            "\u001b[?25l  Downloading https://files.pythonhosted.org/packages/2c/42/9ba0a5901669d213de1487e11906f7caf20283a9c686540176520998e1cd/pywsd-1.1.7.tar.gz (23.6MB)\n",
            "\u001b[K    100% |████████████████████████████████| 23.6MB 2.0MB/s \n",
            "\u001b[?25hRequirement already satisfied, skipping upgrade: nltk in /usr/local/lib/python3.6/dist-packages (from pywsd) (3.2.5)\n",
            "Requirement already satisfied, skipping upgrade: numpy in /usr/local/lib/python3.6/dist-packages (from pywsd) (1.14.6)\n",
            "Requirement already satisfied, skipping upgrade: pandas in /usr/local/lib/python3.6/dist-packages (from pywsd) (0.22.0)\n",
            "Requirement already satisfied, skipping upgrade: six in /usr/local/lib/python3.6/dist-packages (from nltk->pywsd) (1.11.0)\n",
            "Requirement already satisfied, skipping upgrade: python-dateutil>=2 in /usr/local/lib/python3.6/dist-packages (from pandas->pywsd) (2.5.3)\n",
            "Requirement already satisfied, skipping upgrade: pytz>=2011k in /usr/local/lib/python3.6/dist-packages (from pandas->pywsd) (2018.7)\n",
            "Building wheels for collected packages: pywsd\n",
            "  Running setup.py bdist_wheel for pywsd ... \u001b[?25l-\b \b\\\b \b|\b \b/\b \b-\b \bdone\n",
            "\u001b[?25h  Stored in directory: /root/.cache/pip/wheels/2c/7e/c1/6dc25b4ecf76f2455743a4b5bd19549316b230229c3e40b1da\n",
            "Successfully built pywsd\n",
            "Installing collected packages: pywsd\n",
            "Successfully installed pywsd-1.1.7\n"
          ],
          "name": "stdout"
        }
      ]
    },
    {
      "metadata": {
        "colab_type": "code",
        "id": "jB9utQVwdbad",
        "outputId": "5a509f7d-cb3a-40c8-d02e-f16d9aa13610",
        "colab": {
          "base_uri": "https://localhost:8080/",
          "height": 187
        }
      },
      "cell_type": "code",
      "source": [
        "import nltk\n",
        "nltk.download('stopwords')\n",
        "nltk.download('averaged_perceptron_tagger')\n",
        "nltk.download('punkt')\n",
        "nltk.download('wordnet')"
      ],
      "execution_count": 11,
      "outputs": [
        {
          "output_type": "stream",
          "text": [
            "[nltk_data] Downloading package stopwords to /root/nltk_data...\n",
            "[nltk_data]   Unzipping corpora/stopwords.zip.\n",
            "[nltk_data] Downloading package averaged_perceptron_tagger to\n",
            "[nltk_data]     /root/nltk_data...\n",
            "[nltk_data]   Unzipping taggers/averaged_perceptron_tagger.zip.\n",
            "[nltk_data] Downloading package punkt to /root/nltk_data...\n",
            "[nltk_data]   Unzipping tokenizers/punkt.zip.\n",
            "[nltk_data] Downloading package wordnet to /root/nltk_data...\n",
            "[nltk_data]   Unzipping corpora/wordnet.zip.\n"
          ],
          "name": "stdout"
        },
        {
          "output_type": "execute_result",
          "data": {
            "text/plain": [
              "True"
            ]
          },
          "metadata": {
            "tags": []
          },
          "execution_count": 11
        }
      ]
    },
    {
      "metadata": {
        "colab_type": "code",
        "id": "KpmlNWKccuJU",
        "colab": {
          "base_uri": "https://localhost:8080/",
          "height": 34
        },
        "outputId": "fad4de48-ac90-46b1-8332-77482d485390"
      },
      "cell_type": "code",
      "source": [
        "from pywsd.utils import lemmatize_sentence"
      ],
      "execution_count": 12,
      "outputs": [
        {
          "output_type": "stream",
          "text": [
            "Warming up PyWSD (takes ~10 secs)... took 7.289862155914307 secs.\n"
          ],
          "name": "stderr"
        }
      ]
    },
    {
      "metadata": {
        "colab_type": "code",
        "id": "672ZKDCTdVNE",
        "colab": {}
      },
      "cell_type": "code",
      "source": [
        "data['sentence'] = data['sentence'].apply(lambda x : lemmatize_sentence(x))"
      ],
      "execution_count": 0,
      "outputs": []
    },
    {
      "metadata": {
        "colab_type": "code",
        "id": "5qUfqUJCdev-",
        "colab": {
          "base_uri": "https://localhost:8080/",
          "height": 111
        },
        "outputId": "c48c139a-e090-4641-85a3-9ce0ad4c195a"
      },
      "cell_type": "code",
      "source": [
        "data.head(2)"
      ],
      "execution_count": 14,
      "outputs": [
        {
          "output_type": "execute_result",
          "data": {
            "text/html": [
              "<div>\n",
              "<style scoped>\n",
              "    .dataframe tbody tr th:only-of-type {\n",
              "        vertical-align: middle;\n",
              "    }\n",
              "\n",
              "    .dataframe tbody tr th {\n",
              "        vertical-align: top;\n",
              "    }\n",
              "\n",
              "    .dataframe thead th {\n",
              "        text-align: right;\n",
              "    }\n",
              "</style>\n",
              "<table border=\"1\" class=\"dataframe\">\n",
              "  <thead>\n",
              "    <tr style=\"text-align: right;\">\n",
              "      <th></th>\n",
              "      <th>category</th>\n",
              "      <th>from</th>\n",
              "      <th>polarity</th>\n",
              "      <th>sentence</th>\n",
              "      <th>target</th>\n",
              "      <th>to</th>\n",
              "    </tr>\n",
              "  </thead>\n",
              "  <tbody>\n",
              "    <tr>\n",
              "      <th>0</th>\n",
              "      <td>RESTAURANT#GENERAL</td>\n",
              "      <td>51.0</td>\n",
              "      <td>negative</td>\n",
              "      <td>[judge, from, previous, post, this, use, to, b...</td>\n",
              "      <td>place</td>\n",
              "      <td>56.0</td>\n",
              "    </tr>\n",
              "    <tr>\n",
              "      <th>1</th>\n",
              "      <td>SERVICE#GENERAL</td>\n",
              "      <td>75.0</td>\n",
              "      <td>negative</td>\n",
              "      <td>[we, there, be, four, of, u, arrive, at, noon,...</td>\n",
              "      <td>staff</td>\n",
              "      <td>80.0</td>\n",
              "    </tr>\n",
              "  </tbody>\n",
              "</table>\n",
              "</div>"
            ],
            "text/plain": [
              "             category  from  polarity  \\\n",
              "0  RESTAURANT#GENERAL  51.0  negative   \n",
              "1     SERVICE#GENERAL  75.0  negative   \n",
              "\n",
              "                                            sentence target    to  \n",
              "0  [judge, from, previous, post, this, use, to, b...  place  56.0  \n",
              "1  [we, there, be, four, of, u, arrive, at, noon,...  staff  80.0  "
            ]
          },
          "metadata": {
            "tags": []
          },
          "execution_count": 14
        }
      ]
    },
    {
      "metadata": {
        "id": "OKPfw8IdFiCW",
        "colab_type": "text"
      },
      "cell_type": "markdown",
      "source": [
        "### get all the unique words appears in the review\n",
        "- aspect detection based on word level"
      ]
    },
    {
      "metadata": {
        "colab_type": "code",
        "id": "fxxPTVRLdvJG",
        "colab": {}
      },
      "cell_type": "code",
      "source": [
        "import itertools"
      ],
      "execution_count": 0,
      "outputs": []
    },
    {
      "metadata": {
        "colab_type": "code",
        "id": "zRV2yJJzdwxM",
        "colab": {}
      },
      "cell_type": "code",
      "source": [
        "full_words = list(itertools.chain.from_iterable(data['sentence']))"
      ],
      "execution_count": 0,
      "outputs": []
    },
    {
      "metadata": {
        "colab_type": "code",
        "id": "-pdokByTeDzb",
        "colab": {}
      },
      "cell_type": "code",
      "source": [
        "full_words = list(set(full_words))"
      ],
      "execution_count": 0,
      "outputs": []
    },
    {
      "metadata": {
        "colab_type": "code",
        "id": "P8xvkSxIeA8t",
        "outputId": "569288ae-0d19-4e82-e8f5-a898b42d8497",
        "colab": {
          "base_uri": "https://localhost:8080/",
          "height": 34
        }
      },
      "cell_type": "code",
      "source": [
        "len(full_words)"
      ],
      "execution_count": 19,
      "outputs": [
        {
          "output_type": "execute_result",
          "data": {
            "text/plain": [
              "3006"
            ]
          },
          "metadata": {
            "tags": []
          },
          "execution_count": 19
        }
      ]
    },
    {
      "metadata": {
        "id": "V_RCmztmFiCm",
        "colab_type": "text"
      },
      "cell_type": "markdown",
      "source": [
        "### import the pre-trained dependency-based embeddings"
      ]
    },
    {
      "metadata": {
        "colab_type": "code",
        "id": "T8aaUPmteGo4",
        "colab": {}
      },
      "cell_type": "code",
      "source": [
        "file_id = '1YpcbfsCUCJh_B_VGN-qtxZTUU60Ut419'\n",
        "downloaded = drive.CreateFile({'id': file_id})\n",
        "#print('Downloaded content \"{}\"'.format(downloaded.GetContentString()))\n",
        "downloaded.GetContentFile('deps.words.bz2')"
      ],
      "execution_count": 0,
      "outputs": []
    },
    {
      "metadata": {
        "colab_type": "code",
        "id": "g575v-MWetLa",
        "colab": {}
      },
      "cell_type": "code",
      "source": [
        "from bz2 import BZ2File as bzopen"
      ],
      "execution_count": 0,
      "outputs": []
    },
    {
      "metadata": {
        "colab_type": "code",
        "id": "Oy2OvwTgewjO",
        "colab": {}
      },
      "cell_type": "code",
      "source": [
        "# for storage reason, only save the embeddings vectors of the words appear in the reveiws.\n",
        "with bzopen(\"deps.words.bz2\", \"r\") as bzfin:\n",
        "    \"\"\" Handle lines here \"\"\"\n",
        "    dic = {}\n",
        "    for i, line in enumerate(bzfin):\n",
        "      a = line.rstrip()\n",
        "      a = a.decode(\"utf-8\")\n",
        "      a = a.split(' ')\n",
        "      if a[0] in full_words:\n",
        "        dic[a[0]] = list(map(float,a[1:]))"
      ],
      "execution_count": 0,
      "outputs": []
    },
    {
      "metadata": {
        "colab_type": "code",
        "id": "NRVpGDMaeySi",
        "outputId": "79307ae7-1845-4587-e494-30e9ff50ea19",
        "colab": {
          "base_uri": "https://localhost:8080/",
          "height": 34
        }
      },
      "cell_type": "code",
      "source": [
        "len(full_words)"
      ],
      "execution_count": 23,
      "outputs": [
        {
          "output_type": "execute_result",
          "data": {
            "text/plain": [
              "3006"
            ]
          },
          "metadata": {
            "tags": []
          },
          "execution_count": 23
        }
      ]
    },
    {
      "metadata": {
        "id": "piqIp2AiFiCx",
        "colab_type": "text"
      },
      "cell_type": "markdown",
      "source": [
        "### remove the stop words from the words corpus"
      ]
    },
    {
      "metadata": {
        "colab_type": "code",
        "id": "bcrpz_EogMN3",
        "colab": {}
      },
      "cell_type": "code",
      "source": [
        "from nltk.corpus import stopwords,wordnet\n",
        "from nltk.stem import WordNetLemmatizer\n",
        "wordnet_lemmatizer = WordNetLemmatizer()\n",
        "stop_words = set(stopwords.words('english')) "
      ],
      "execution_count": 0,
      "outputs": []
    },
    {
      "metadata": {
        "colab_type": "code",
        "id": "ewk2uisIgMb1",
        "colab": {}
      },
      "cell_type": "code",
      "source": [
        "full_words = set(full_words) - set(stop_words)"
      ],
      "execution_count": 0,
      "outputs": []
    },
    {
      "metadata": {
        "colab_type": "code",
        "id": "0ynkAaa1gXDZ",
        "colab": {}
      },
      "cell_type": "code",
      "source": [
        "full_words = list(full_words)"
      ],
      "execution_count": 0,
      "outputs": []
    },
    {
      "metadata": {
        "colab_type": "code",
        "id": "EOdC6K57ey_0",
        "colab": {
          "base_uri": "https://localhost:8080/",
          "height": 357
        },
        "outputId": "82a099ec-30f2-44f9-a018-537507894fdd"
      },
      "cell_type": "code",
      "source": [
        "# one advantage of using pre-trained embeddings is that the misspelling words could be filtered.\n",
        "words_not_found = set(full_words) - set(dic.keys())\n",
        "\n",
        "list(words_not_found)[:20] # most are misspelling or meaningless words"
      ],
      "execution_count": 29,
      "outputs": [
        {
          "output_type": "execute_result",
          "data": {
            "text/plain": [
              "['dissapointment',\n",
              " 'quesadilla',\n",
              " 'gigondas',\n",
              " 'greenewich',\n",
              " 'nakgibokum',\n",
              " 'faan',\n",
              " 'lonk',\n",
              " 'plonk',\n",
              " 'delicous',\n",
              " 'parmesean',\n",
              " 'vomitinducing',\n",
              " 'sushimi',\n",
              " 'ocasionally',\n",
              " 'foodthere',\n",
              " 'pricce',\n",
              " 'mmmmmmmm',\n",
              " 'palets',\n",
              " 'homevery',\n",
              " 'pimento',\n",
              " 'tristate']"
            ]
          },
          "metadata": {
            "tags": []
          },
          "execution_count": 29
        }
      ]
    },
    {
      "metadata": {
        "id": "FOow9RwpFiC9",
        "colab_type": "text"
      },
      "cell_type": "markdown",
      "source": [
        "### save the words to the keys list and embedding vectors to the vals list"
      ]
    },
    {
      "metadata": {
        "colab_type": "code",
        "id": "xMOepKZRg3Lr",
        "colab": {}
      },
      "cell_type": "code",
      "source": [
        "vals = []\n",
        "keys = []\n",
        "\n",
        "for k, v in dic.items():\n",
        "    keys.append(k)\n",
        "    vals.append(v)\n",
        "\n",
        "vals = np.array(vals)\n",
        "keys = np.array(keys)"
      ],
      "execution_count": 0,
      "outputs": []
    },
    {
      "metadata": {
        "colab_type": "code",
        "id": "1ptC7i1Ph2EK",
        "colab": {}
      },
      "cell_type": "code",
      "source": [
        "### use agglomerative clustering to cluster the embedding vectors"
      ],
      "execution_count": 0,
      "outputs": []
    },
    {
      "metadata": {
        "colab_type": "code",
        "id": "G2zVrR41haGR",
        "colab": {}
      },
      "cell_type": "code",
      "source": [
        "from sklearn.cluster import AgglomerativeClustering\n",
        "from sklearn.metrics.pairwise import pairwise_distances,cosine_similarity"
      ],
      "execution_count": 0,
      "outputs": []
    },
    {
      "metadata": {
        "colab_type": "code",
        "id": "G9fBE3sJhtrz",
        "colab": {}
      },
      "cell_type": "code",
      "source": [
        "clustering = AgglomerativeClustering(n_clusters=6, affinity='cosine',linkage='average')\n",
        "labels = clustering.fit_predict(vals)"
      ],
      "execution_count": 0,
      "outputs": []
    },
    {
      "metadata": {
        "colab_type": "code",
        "id": "jQmfLGpthwFA",
        "colab": {}
      },
      "cell_type": "code",
      "source": [
        "def centroid(arr):\n",
        "    '''\n",
        "    this function aims to find the centrod in each cluster.\n",
        "    '''\n",
        "    len = arr.shape[0]\n",
        "    n = arr.shape[1]\n",
        "    centroid = np.zeros(n)\n",
        "    for i in range(n):\n",
        "      centroid[i] = np.sum(arr[:, i])\n",
        "      \n",
        "    return centroid/len"
      ],
      "execution_count": 0,
      "outputs": []
    },
    {
      "metadata": {
        "colab_type": "code",
        "id": "8iUJGxLhkc_H",
        "colab": {}
      },
      "cell_type": "code",
      "source": [
        "def find_key(value):\n",
        "    '''\n",
        "    this function aims to finds the words when giving the embeddings vectors.\n",
        "    '''\n",
        "    return next((k for k, v in dic.items() if (v == value).all()), None)"
      ],
      "execution_count": 0,
      "outputs": []
    },
    {
      "metadata": {
        "colab_type": "code",
        "id": "bSQsvu2akoh2",
        "outputId": "8c121bc9-b084-494a-b0ea-ff0588cc412e",
        "colab": {
          "base_uri": "https://localhost:8080/",
          "height": 241
        }
      },
      "cell_type": "code",
      "source": [
        "'''\n",
        "given the cluster results, find the most representative words in each cluster.\n",
        "'''\n",
        "label = []\n",
        "all_find = []\n",
        "for i in range(6):\n",
        "  res = []\n",
        "  temp_label = np.where(labels == (i))\n",
        "  temp_X = vals[temp_label]\n",
        "  cen = centroid(temp_X)\n",
        "  distance = cosine_similarity(temp_X, cen.reshape(1,-1))\n",
        "  distance = np.absolute(distance)\n",
        "  a = distance.reshape(1,-1).argsort()[0][-20:]\n",
        " \n",
        "  print('cluster', i)\n",
        "  for k in range(len(a)):\n",
        "    res.append(find_key(temp_X[a[k]]))\n",
        "  all_find.append(res)\n",
        "  print(res)"
      ],
      "execution_count": 39,
      "outputs": [
        {
          "output_type": "stream",
          "text": [
            "cluster 0\n",
            "['yawn', 'laidback', 'pepperoni', 'tipsy', 'frizzy', 'guacamole', 'ceviche', 'nyi', 'nobu', 'lasagna', 'kiku', 'filet', 'tempura', 'pastrami', 'bbe', 'sizzle', 'mizu', 'yorkie', 'yuzu', 'theyre']\n",
            "cluster 1\n",
            "['retired', 'wed', 'hit', 'shot']\n",
            "cluster 2\n",
            "['al', 'etc', 'versus', 'u', 'def', 'st', 'se', 'og', 'th', 'pp', 'yr', 'n', 's', 'o', 'd', 't', 'e', 'p', 'w', 'l']\n",
            "cluster 3\n",
            "['consist', 'varied', 'depend', 'varies']\n",
            "cluster 4\n",
            "['worth', 'guilty']\n",
            "cluster 5\n",
            "['diet', 'offensive']\n"
          ],
          "name": "stdout"
        }
      ]
    },
    {
      "metadata": {
        "colab_type": "code",
        "id": "bCpR67Fpov7U",
        "colab": {}
      },
      "cell_type": "code",
      "source": [
        "all_find = list(itertools.chain.from_iterable(all_find))\n",
        "all_find"
      ],
      "execution_count": 0,
      "outputs": []
    },
    {
      "metadata": {
        "id": "WoZaski4FiDc",
        "colab_type": "text"
      },
      "cell_type": "markdown",
      "source": [
        "### depending on the cluster results, integrating the business sense, eliminate the less relative clusters/combine similar clusters\n",
        "### in this project, we decide subcluster a large cluster, reasons are the following:\n",
        "- except the first cluster, all other clusters have relative smaller size and more like an outlier clutsers.\n",
        "- according to the human interpretion, we thought the first cluster may include more interesting information for this project"
      ]
    },
    {
      "metadata": {
        "colab_type": "code",
        "id": "-OnJi1h-okNf",
        "colab": {}
      },
      "cell_type": "code",
      "source": [
        "X_sub = vals[np.where(labels == (0))]\n",
        "key_sub = keys[np.where(labels == (0))]"
      ],
      "execution_count": 0,
      "outputs": []
    },
    {
      "metadata": {
        "colab_type": "code",
        "id": "qLwEi_-up-Yw",
        "outputId": "9479ebf0-a7bb-4614-e958-cbcc4c13354d",
        "colab": {
          "base_uri": "https://localhost:8080/",
          "height": 34
        }
      },
      "cell_type": "code",
      "source": [
        "X_sub.shape, key_sub.shape"
      ],
      "execution_count": 42,
      "outputs": [
        {
          "output_type": "execute_result",
          "data": {
            "text/plain": [
              "((2543, 300), (2543,))"
            ]
          },
          "metadata": {
            "tags": []
          },
          "execution_count": 42
        }
      ]
    },
    {
      "metadata": {
        "id": "egNygYhFFiC_",
        "colab_type": "text"
      },
      "cell_type": "markdown",
      "source": [
        "### use dendegram to visualize the number of clusters; could be used to pre-defined the number of clusters; "
      ]
    },
    {
      "metadata": {
        "colab_type": "code",
        "id": "WV7AH8_s3zgn",
        "colab": {}
      },
      "cell_type": "code",
      "source": [
        "from matplotlib import pyplot as plt\n",
        "from scipy.cluster.hierarchy import dendrogram, linkage\n",
        "import numpy as np"
      ],
      "execution_count": 0,
      "outputs": []
    },
    {
      "metadata": {
        "colab_type": "code",
        "id": "QSp9Zb5F3zcW",
        "colab": {}
      },
      "cell_type": "code",
      "source": [
        "Z = linkage(X_sub, method='average', metric='cosine' )"
      ],
      "execution_count": 0,
      "outputs": []
    },
    {
      "metadata": {
        "colab_type": "code",
        "id": "n-R-h_b93zWY",
        "outputId": "d0d7bd27-25e5-4036-9865-2aaae8ae93fa",
        "colab": {
          "base_uri": "https://localhost:8080/",
          "height": 613
        }
      },
      "cell_type": "code",
      "source": [
        "plt.figure(figsize=(15, 10))\n",
        "plt.xlabel('Similarity', fontsize = 18)\n",
        "dendrogram(\n",
        "    Z,\n",
        "    leaf_rotation=90.,  # rotates the x axis labels\n",
        "    leaf_font_size=8.,  # font size for the x axis labels\n",
        "    truncate_mode = 'lastp',\n",
        "    p = 9,\n",
        "    orientation = 'left'\n",
        ")\n",
        "plt.xlim(0.78,0.74)\n",
        "plt.show()"
      ],
      "execution_count": 59,
      "outputs": [
        {
          "output_type": "display_data",
          "data": {
            "image/png": "[encoded data removed]",
            "text/plain": [
              "<matplotlib.figure.Figure at 0x7f95b3b9ff60>"
            ]
          },
          "metadata": {
            "tags": []
          }
        }
      ]
    },
    {
      "metadata": {
        "colab_type": "code",
        "id": "mZCgl_DFplbS",
        "colab": {}
      },
      "cell_type": "code",
      "source": [
        "labels2 = clustering.fit_predict(X_sub)"
      ],
      "execution_count": 0,
      "outputs": []
    },
    {
      "metadata": {
        "colab_type": "code",
        "id": "IAbkHCNepmHp",
        "outputId": "fbcc5cec-c6df-49d2-e43a-151d7fb5360d",
        "colab": {
          "base_uri": "https://localhost:8080/",
          "height": 221
        }
      },
      "cell_type": "code",
      "source": [
        "label = []\n",
        "for i in range(6):\n",
        "  res = []\n",
        "  temp_label = np.where(labels2 == (i))\n",
        "  temp_X = X_sub[temp_label]\n",
        "  cen = centroid(temp_X)\n",
        "  distance = cosine_similarity(temp_X, cen.reshape(1,-1))\n",
        "  distance = np.absolute(distance)\n",
        "  a = distance.reshape(1,-1).argsort()[0][-10:]\n",
        "  print('cluster', i)\n",
        "  for k in range(len(a)):\n",
        "    res.append(find_key(temp_X[a[k]]))\n",
        "  print(res)"
      ],
      "execution_count": 47,
      "outputs": [
        {
          "output_type": "stream",
          "text": [
            "cluster 0\n",
            "['gig', 'thursday', 'week', 'saturday', 'evening', 'day', 'sweepstakes', 'night', 'afternoon', 'weekend']\n",
            "cluster 1\n",
            "['chin', 'breast', 'mouth', 'arm', 'tail', 'nose', 'lip', 'rib', 'turnoff', 'palate']\n",
            "cluster 2\n",
            "['filet', 'lasagna', 'pastrami', 'tempura', 'bbe', 'sizzle', 'mizu', 'yorkie', 'yuzu', 'theyre']\n",
            "cluster 3\n",
            "['labor', 'abuse', 'torture']\n",
            "cluster 4\n",
            "['mid', 'downtown', 'middle', 'upper', 'nearby', 'west', 'south', 'midtown', 'east', 'upstate']\n",
            "cluster 5\n",
            "['editorial', 'expert', 'fair', 'limited', 'co', 'cooperative', 'firm', 'company']\n"
          ],
          "name": "stdout"
        }
      ]
    },
    {
      "metadata": {
        "colab_type": "code",
        "id": "yO6R1601P_0z",
        "colab": {}
      },
      "cell_type": "code",
      "source": [
        "temp_label = np.where(labels2 == (1))\n",
        "temp_X = X_sub[temp_label]\n",
        "cen = centroid(temp_X)\n",
        "distance = cosine_similarity(temp_X, cen.reshape(1,-1))\n",
        "distance = np.absolute(distance)\n",
        "a = distance.reshape(1,-1).argsort()[0][-10:]\n"
      ],
      "execution_count": 0,
      "outputs": []
    },
    {
      "metadata": {
        "colab_type": "code",
        "id": "OJslUQOoQH2i",
        "outputId": "adfdacbb-d203-49ec-a9d3-9d537223c805",
        "colab": {
          "base_uri": "https://localhost:8080/",
          "height": 34
        }
      },
      "cell_type": "code",
      "source": [
        "np.sum(distance)"
      ],
      "execution_count": 60,
      "outputs": [
        {
          "output_type": "execute_result",
          "data": {
            "text/plain": [
              "40.6817666210453"
            ]
          },
          "metadata": {
            "tags": []
          },
          "execution_count": 60
        }
      ]
    },
    {
      "metadata": {
        "id": "VcGyWDfFFiDu",
        "colab_type": "text"
      },
      "cell_type": "markdown",
      "source": [
        "### when deciding the most appropriate number of clusters, applying the similar logic of the elbow graph, draw a graph shows the relationship between the overall within class similarities and the number of clusters"
      ]
    },
    {
      "metadata": {
        "colab_type": "code",
        "id": "2-rFGIHvp3jA",
        "colab": {}
      },
      "cell_type": "code",
      "source": [
        "def mse_cal(k, data):\n",
        "  mse = []\n",
        "  for i in range(1,k):\n",
        "    lab = AgglomerativeClustering(n_clusters= i , affinity='cosine',linkage='average').fit_predict(data)\n",
        "    res = 0\n",
        "    for j in range(i):\n",
        "      temp_label = np.where(lab == (j))\n",
        "      temp_X = data[temp_label]\n",
        "      cen = centroid(temp_X)\n",
        "      distance = cosine_similarity(temp_X, cen.reshape(1,-1))\n",
        "      distance = np.absolute(distance)\n",
        "      res += np.sum(distance)\n",
        "    mse.append(res)\n",
        "  return mse"
      ],
      "execution_count": 0,
      "outputs": []
    },
    {
      "metadata": {
        "colab_type": "code",
        "id": "LIv5mX0BQ1jS",
        "colab": {}
      },
      "cell_type": "code",
      "source": [
        "mse = mse_cal(50,X_sub)"
      ],
      "execution_count": 0,
      "outputs": []
    },
    {
      "metadata": {
        "colab_type": "code",
        "id": "VqBN89jTRCj2",
        "outputId": "2cb34a6b-249b-466e-ed42-522cb2348da7",
        "scrolled": true,
        "colab": {
          "base_uri": "https://localhost:8080/",
          "height": 421
        }
      },
      "cell_type": "code",
      "source": [
        "plt.plot(mse)\n",
        "plt.title('the Relationship between Similarity and \\n the Number of Clusters (subcluster 1)', fontsize = 18)\n",
        "plt.xlabel('the Number of Clusters', fontsize = 16)\n",
        "plt.ylabel('the Overall Similarity', fontsize = 16)"
      ],
      "execution_count": 66,
      "outputs": [
        {
          "output_type": "execute_result",
          "data": {
            "text/plain": [
              "Text(0,0.5,'the Overall Similarity')"
            ]
          },
          "metadata": {
            "tags": []
          },
          "execution_count": 66
        },
        {
          "output_type": "display_data",
          "data": {
            "image/png": "[encoded data removed]",
            "text/plain": [
              "<matplotlib.figure.Figure at 0x7f95b3ba8b70>"
            ]
          },
          "metadata": {
            "tags": []
          }
        }
      ]
    },
    {
      "metadata": {
        "id": "EDXLEbv_FiD2",
        "colab_type": "text"
      },
      "cell_type": "markdown",
      "source": [
        "### comparing with the elbow graph, which depends on euclidean distance."
      ]
    },
    {
      "metadata": {
        "colab_type": "code",
        "id": "oPF6N_b5R-Am",
        "colab": {}
      },
      "cell_type": "code",
      "source": [
        "from sklearn.cluster import KMeans"
      ],
      "execution_count": 0,
      "outputs": []
    },
    {
      "metadata": {
        "colab_type": "code",
        "id": "63YrSFQARQg4",
        "colab": {}
      },
      "cell_type": "code",
      "source": [
        "mse_k = []\n",
        "for i in range(1, 50):\n",
        "  kmeans = KMeans(n_clusters = i, init = 'k-means++')\n",
        "  kmeans.fit(X_sub)\n",
        "  mse_k.append(kmeans.inertia_)"
      ],
      "execution_count": 0,
      "outputs": []
    },
    {
      "metadata": {
        "colab_type": "code",
        "id": "RDeqAVvuRSp7",
        "outputId": "5ee62b4b-37ec-4955-a2a5-0b7cb331f53d",
        "scrolled": true,
        "colab": {
          "base_uri": "https://localhost:8080/",
          "height": 383
        }
      },
      "cell_type": "code",
      "source": [
        "plt.plot(mse_k)\n",
        "plt.title('Elbow Graph',fontsize = 18)"
      ],
      "execution_count": 69,
      "outputs": [
        {
          "output_type": "execute_result",
          "data": {
            "text/plain": [
              "Text(0.5,1,'Elbow Graph')"
            ]
          },
          "metadata": {
            "tags": []
          },
          "execution_count": 69
        },
        {
          "output_type": "display_data",
          "data": {
            "image/png": "[encoded data removed]",
            "text/plain": [
              "<matplotlib.figure.Figure at 0x7f95b39ce7f0>"
            ]
          },
          "metadata": {
            "tags": []
          }
        }
      ]
    },
    {
      "metadata": {
        "id": "rXqP7WDUFiD_",
        "colab_type": "text"
      },
      "cell_type": "markdown",
      "source": [
        "### comparing the clutser results from hierarchy based clustering mthods and distance based clustering methods"
      ]
    },
    {
      "metadata": {
        "colab_type": "code",
        "id": "jozGzil9T0rE",
        "colab": {}
      },
      "cell_type": "code",
      "source": [
        "from sklearn.metrics.pairwise import pairwise_distances"
      ],
      "execution_count": 0,
      "outputs": []
    },
    {
      "metadata": {
        "colab_type": "code",
        "id": "NI1NZPBoSbf7",
        "colab": {}
      },
      "cell_type": "code",
      "source": [
        "def pre(data, cluster):\n",
        "  lab = AgglomerativeClustering(n_clusters= cluster , affinity='cosine',linkage='average').fit_predict(data)\n",
        "  print('Agglomerative Clustering and cosine similarity: ')\n",
        "  print('The number of Clusters is :',len(np.unique(lab)),'\\n')  \n",
        "  for i in range(len(np.unique(lab))):\n",
        "    res = []\n",
        "    temp_label = np.where(lab == (i))\n",
        "    temp_X = data[temp_label]\n",
        "    cen = centroid(temp_X)\n",
        "    distance = cosine_similarity(temp_X, cen.reshape(1,-1))\n",
        "    distance = np.absolute(distance)\n",
        "    a = distance.reshape(1,-1).argsort()[0][-25:]\n",
        "    print('cluster', i)\n",
        "    for k in range(len(a)):\n",
        "      res.append(find_key(temp_X[a[k]]))\n",
        "    print(res)\n",
        "    \n",
        "  print('\\n')\n",
        "  lab = KMeans(n_clusters = i, init = 'k-means++').fit_predict(data)\n",
        "  print('K-means and Euclidean Distance: ')\n",
        "  print('The number of Clusters is :',len(np.unique(lab)),'\\n')\n",
        "  for i in range(len(np.unique(lab))):\n",
        "    res = []\n",
        "    temp_label = np.where(lab == (i))\n",
        "    temp_X = data[temp_label]\n",
        "    cen = centroid(temp_X)\n",
        "    distance = pairwise_distances(temp_X, cen.reshape(1,-1), metric='euclidean')\n",
        "    distance = np.absolute(distance)\n",
        "    a = distance.reshape(1,-1).argsort()[0][-25:]\n",
        "    print('cluster', i)\n",
        "    for k in range(len(a)):\n",
        "      res.append(find_key(temp_X[a[k]]))\n",
        "    print(res)"
      ],
      "execution_count": 0,
      "outputs": []
    },
    {
      "metadata": {
        "colab_type": "code",
        "id": "7F_LUEP6UDrE",
        "outputId": "88b6d685-87ad-4917-9828-cc5f681bfa54",
        "colab": {
          "base_uri": "https://localhost:8080/",
          "height": 819
        }
      },
      "cell_type": "code",
      "source": [
        "pre(X_sub,10)"
      ],
      "execution_count": 72,
      "outputs": [
        {
          "output_type": "stream",
          "text": [
            "Agglomerative Clustering and cosine similarity: \n",
            "The number of Clusters is : 10 \n",
            "\n",
            "cluster 0\n",
            "['soupy', 'appetizing', 'soggy', 'pepperoni', 'laidback', 'guacamole', 'nobu', 'kiku', 'touristy', 'artsy', 'nyi', 'pricey', 'balsamic', 'tipsy', 'filet', 'frizzy', 'lasagna', 'pastrami', 'bbe', 'tempura', 'sizzle', 'yorkie', 'mizu', 'yuzu', 'theyre']\n",
            "cluster 1\n",
            "['hip', 'teeth', 'corner', 'belly', 'flank', 'tongue', 'foot', 'edge', 'slope', 'ear', 'leg', 'thumb', 'tip', 'skin', 'stomach', 'chin', 'breast', 'mouth', 'arm', 'tail', 'nose', 'lip', 'rib', 'turnoff', 'palate']\n",
            "cluster 2\n",
            "['meal', 'gig', 'banquet', 'birthday', 'sunset', 'month', 'summer', 'lunch', 'hour', 'noon', 'dinner', 'vacation', 'holiday', 'weekday', 'morning', 'week', 'sunday', 'friday', 'thursday', 'saturday', 'day', 'night', 'evening', 'afternoon', 'weekend']\n",
            "cluster 3\n",
            "['occassions', 'vibe', 'tranquility', 'value', 'amount', 'description', 'item', 'acknowledgement', 'acidity', 'expectation', 'professionalism', 'quantity', 'concept', 'cleanliness', 'drawback', 'acknowledgment', 'décor', 'dearth', 'ambience', 'ambiance', 'freshness', 'heaviness', 'deportment', 'triviality', 'occassion']\n",
            "cluster 4\n",
            "['prime', 'present', 'grade', 'native', 'intermediate', 'past', 'future', 'lower', 'mid', 'downtown', 'middle', 'upper', 'nearby', 'west', 'south', 'midtown', 'east', 'upstate']\n",
            "cluster 5\n",
            "['editorial', 'expert', 'fair', 'limited', 'co', 'cooperative', 'firm', 'company']\n",
            "cluster 6\n",
            "['choice', 'open', 'runner', 'sweep', 'prix', 'pick', 'finish', 'starter', 'classic', 'draw', 'prize', 'event', 'selection', 'match', 'round', 'award', 'final', 'winner', 'win', 'silverware', 'trophy', 'accolade', 'sweepstakes']\n",
            "cluster 7\n",
            "['labor', 'abuse', 'torture']\n",
            "cluster 8\n",
            "['yourself', 'everything', 'anything', 'them', 'an', 'which', 'she', 'the', 'we', 'he', 'nobody', 'they', 'some', 'any', 'ourselves', 'everyone', 'whoever', 'someone', 'that', 'who', 'anyone', 'this', 'it', 'anybody', 'you']\n",
            "cluster 9\n",
            "['country', 'accident', 'world', 'fire', 'atlantic', 'famine', 'disaster', 'earth', 'planet', 'sea', 'typhoon', 'weather', 'desert', 'sky', 'storm']\n",
            "\n",
            "\n",
            "K-means and Euclidean Distance: \n",
            "The number of Clusters is : 9 \n",
            "\n",
            "cluster 0\n",
            "['48th', 'six', 'five', '23rd', '74th', 'three', '57th', 'four', 'two', '6th', '2nd', '1st', '4th', '5th', '0', '50th', 'hundred', 'million', 'twenty', '2002', 'dozen', 'thirty', 'zero', 'fifteen', 'ten']\n",
            "cluster 1\n",
            "['east', 'editorial', 'every', 'mark', 'judge', 'planning', 'cooling', 'each', 'typhoon', 'past', 'them', 'these', 'those', 'regard', 'passing', 'him', 'her', 'associate', 'standing', 'rival', 'mid', 'plus', 'whom', 'both', 'itself']\n",
            "cluster 2\n",
            "['sunday', 'virgin', 'saturday', 'duo', 'he', 'greek', 'latin', 'classmates', 'queens', 'thursday', 'frontman', 'bass', 'atlantic', 'opera', 'who', 'lady', 'co', 'ave', 'my', 'downtown', 'prix', 'our', 'your', 'their', 'prime']\n",
            "cluster 3\n",
            "['allergy', 'cod', 'plastic', 'fat', 'dynamite', 'icing', 'blond', 'pink', 'purple', 'ink', 'cuisine', 'orange', 'oil', 'pant', 'garbage', 'tasting', 'sodium', 'bison', 'herb', 'soap', 'eaten', 'noir', 'mint', 'cooking', 'topping']\n",
            "cluster 4\n",
            "['last', 'secret', 'possible', 'major', 'outstanding', 'intermediate', 'divine', 'straight', 'underground', 'sixth', 'final', 'lower', 'plain', 'online', 'upper', 'own', 'super', 'hidden', 'triple', 'double', 'weekly', 'general', 'ill', 'native', 'overall']\n",
            "cluster 5\n",
            "['glance', 'everyone', 'redone', 'myself', 'touch', 'abuse', 'we', 'care', 'waste', 'may', 'post', 'chat', 'me', 'self', 'not', 'or', 'whatever', 'count', 'no', 'minus', 'never', 'halfway', 'speaking', 'what', 'till']\n",
            "cluster 6\n",
            "['either', 'next', 'if', 'whether', 'daily', 'for', 'and', 'with', 'nor', 'until', 'close', 'outside', 'except', 'albeit', 'neither', 'via', 'into', 'against', 'despite', 'per', 'among', 'upon', 'least', 'from', 'during']\n",
            "cluster 7\n",
            "['drive', 'spill', 'playing', 'overflow', 'coming', 'concerned', 'usher', 'torture', 'bore', 'trained', 'occupied', 'split', 'speaks', 'filling', 'warrant', 'spread', 'fall', 'burnt', 'serving', 'miss', 'sat', 'following', 'caters', 'steamed', 'limited']\n",
            "cluster 8\n",
            "['face', 'ghetto', 'island', 'sea', 'train', 'flank', 'joint', 'top', 'prep', 'earth', 'fire', 'dining', 'attendant', 'river', 'bloom', 'steam', 'front', 'wedding', 'lit', 'canal', 'avenue', 'interior', 'seating', 'wing', 'heaven']\n"
          ],
          "name": "stdout"
        }
      ]
    },
    {
      "metadata": {
        "id": "boBTNa2HFiEJ",
        "colab_type": "text"
      },
      "cell_type": "markdown",
      "source": [
        "### expand the clusters\n",
        "### read the whole pretrained wording embeddings in to a dictionary and use the most representative words from each cluster of the previous results as the target words to expand the clustering.\n",
        "- take the cluster 2: ['filet', 'lasagna', 'pastrami', 'tempura', 'bbe', 'sizzle', 'mizu', 'yorkie', 'yuzu', 'theyre'] for example\n",
        "- use each target word to expend the cluster for future tasks. Expand the cluster size to 25. The large scale could depend on the future applcation and requirement."
      ]
    },
    {
      "metadata": {
        "colab_type": "code",
        "id": "pxHOMX8-4mRM",
        "colab": {}
      },
      "cell_type": "code",
      "source": [
        "with bzopen(\"deps.words.bz2\", \"r\") as bzfin:\n",
        "    \"\"\" Handle lines here \"\"\"\n",
        "    dic = {}\n",
        "    for i, line in enumerate(bzfin):\n",
        "      a = line.rstrip()\n",
        "      a = a.decode(\"utf-8\")\n",
        "      a = a.split(' ')\n",
        "      dic[a[0]] = list(map(float,a[1:]))"
      ],
      "execution_count": 0,
      "outputs": []
    },
    {
      "metadata": {
        "colab_type": "code",
        "id": "D3ZUWLg02jei",
        "colab": {}
      },
      "cell_type": "code",
      "source": [
        "target = ['filet', 'lasagna', 'pastrami', 'tempura', 'bbe', 'sizzle', 'mizu', 'yorkie', 'yuzu', 'theyre']"
      ],
      "execution_count": 0,
      "outputs": []
    },
    {
      "metadata": {
        "colab_type": "code",
        "id": "NreEIMl48VUY",
        "colab": {}
      },
      "cell_type": "code",
      "source": [
        "all_embed = [x for x in dic.values()]"
      ],
      "execution_count": 0,
      "outputs": []
    },
    {
      "metadata": {
        "colab_type": "code",
        "id": "_5Vt94On9IKR",
        "outputId": "eb11af7b-5027-4064-fd23-f9da36e56c44",
        "colab": {
          "base_uri": "https://localhost:8080/",
          "height": 34
        }
      },
      "cell_type": "code",
      "source": [
        "all_embed = np.array(all_embed)\n",
        "all_embed.shape"
      ],
      "execution_count": 75,
      "outputs": [
        {
          "output_type": "execute_result",
          "data": {
            "text/plain": [
              "(174015, 300)"
            ]
          },
          "metadata": {
            "tags": []
          },
          "execution_count": 75
        }
      ]
    },
    {
      "metadata": {
        "colab_type": "code",
        "id": "qHhmD3jiD64Q",
        "outputId": "762e417a-5427-4801-f4bb-22ce4b6aaa1b",
        "colab": {
          "base_uri": "https://localhost:8080/",
          "height": 377
        }
      },
      "cell_type": "code",
      "source": [
        "for word in target:\n",
        "  res2 = []\n",
        "  distance = cosine_similarity(np.array(dic[word]).reshape(1,-1), all_embed)\n",
        "  distance = np.absolute(distance)\n",
        "  dist = np.absolute(distance)\n",
        "  a = dist.reshape(1,-1).argsort()[0][-25:]\n",
        " \n",
        "  print('word', word)\n",
        "  for k in range(len(a)):\n",
        "    res2.append(find_key(all_embed[a[k]]))\n",
        "  #print('center word is:', find_key(cluster0[i,]))\n",
        "  print(res2)\n",
        "  \n"
      ],
      "execution_count": 83,
      "outputs": [
        {
          "output_type": "stream",
          "text": [
            "word filet\n",
            "['flan', 'heliotrope', 'croissant', 'hamsa', 'aubergine', 'bánh', 'dahi', 'roquefort', 'paan', 'ceviche', 'weenie', 'yorkie', 'spearmint', 'beefeater', 'fruitcake', 'shortbread', 'marmite', 'cutlet', 'shawarma', 'meatloaf', 'tempura', 'paneer', 'lasagna', 'wonton', 'filet']\n",
            "word lasagna\n",
            "['idli', 'matzah', 'shallot', 'falafel', 'vegemite', 'paneer', 'aubergine', 'pastrami', 'hummus', 'pepperoni', 'barbacoa', 'chorizo', 'shortbread', 'fufu', 'nutella', 'meatloaf', 'cornbread', 'gelato', 'coleslaw', 'wonton', 'ravioli', 'guacamole', 'tempura', 'tempeh', 'lasagna']\n",
            "word pastrami\n",
            "['laksa', 'risotto', 'lasagna', 'shortbread', 'yoghurt', 'kefir', 'crepes', 'soju', 'sashimi', 'fufu', 'nachos', 'paella', 'guacamole', 'shōchū', 'paneer', 'idli', 'sorbet', 'ravioli', 'nutella', 'coleslaw', 'tempura', 'meatloaf', 'tteok', 'tempeh', 'pastrami']\n",
            "word tempura\n",
            "['pulque', 'chorizo', 'shōchū', 'barbacoa', 'kefir', 'shallot', 'ceviche', 'falafel', 'guacamole', 'satay', 'sorbet', 'vegemite', 'idli', 'coleslaw', 'pastrami', 'sashimi', 'pepperoni', 'paneer', 'lasagna', 'nutella', 'ravioli', 'shortbread', 'wonton', 'tempeh', 'tempura']\n",
            "word bbe\n",
            "['excello', 'shanachie', 'peaceville', 'jmt', 'bctv', 'rawkus', 'teldec', 'cdv', 'ghostlight', 'abc-paramount', 'ztt', 'lbl', 'kompakt', 'zyx', 'starday', 'kmg', 'djm', 'barsuk', 'rephlex', 'kranky', 'malaco', 'statik', 'delmark', 'bgo', 'bbe']\n",
            "word sizzle\n",
            "['swish', 'boggle', 'crackle', 'snarl', 'lunchbox', 'jigger', 'fruitcake', 'weirdo', 'suntan', 'tumbleweeds', 'squeal', 'jitterbug', 'slither', 'jackknife', 'hotdog', 'firestarter', 'honk', 'woof', 'chomp', 'lowdown', 'purr', 'cakewalk', 'blam', 'clang', 'sizzle']\n",
            "word mizu\n",
            "['kotetsu', 'kojiro', 'yasha', 'shubha', 'wiremu', 'yuusuke', 'asako', 'chameli', 'kittu', 'janani', 'zizi', 'bangaru', 'sowmya', 'ossi', 'egor', 'jirō', 'graziella', 'pınar', 'zazu', 'kintaro', 'soumya', 'genya', 'wojtek', 'katinka', 'mizu']\n",
            "word yorkie\n",
            "['humpy', 'parasaurolophus', 'ossi', 'trekkie', 'pixy', 'jumpman', 'lycanthrope', 'yasha', 'gunnel', 'kotetsu', 'styracosaurus', 'kelpie', 'booger', 'cornishman', 'jigger', 'squirtle', 'greenie', 'charmander', 'rottweiler', 'utahraptor', 'brontosaurus', 'wino', 'goomba', 'miina', 'yorkie']\n",
            "word yuzu\n",
            "['urabe', 'palak', 'ovaltine', 'trebbiano', 'delphinium', 'lactuca', 'ratty', 'tweedledee', 'dilophosaurus', 'sowmya', 'jirō', 'sugi', 'convolvulus', 'krillin', 'dahi', 'kotetsu', 'azuki', 'applejack', 'sémillon', 'nutella', 'kozo', 'mourvèdre', 'roussanne', 'kombu', 'yuzu']\n",
            "word theyre\n",
            "['siegbert', 'corcu', 'zomg', 'mily', 'office-land', 'jeez', \"support'''\", 'somethign', 'zapatancas', 'nicéphore', \"y'know\", 'staledraft', 'sofixit', 'ymmv', 'support-', 'ooops', 'especialy', 'totaly', 'keepi', \"keep'''\", \"''to\", 'allways', 'oppose-', \"not''\", 'theyre']\n"
          ],
          "name": "stdout"
        }
      ]
    },
    {
      "metadata": {
        "colab_type": "code",
        "id": "fVPX1yNnAM_X",
        "colab": {}
      },
      "cell_type": "code",
      "source": [
        ""
      ],
      "execution_count": 0,
      "outputs": []
    }
  ]
}